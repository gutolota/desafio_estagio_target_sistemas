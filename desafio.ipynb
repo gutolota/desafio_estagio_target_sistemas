{
 "cells": [
  {
   "cell_type": "markdown",
   "metadata": {},
   "source": [
    "Técnica:\n",
    "\n",
    "1) Dado a sequência de Fibonacci, onde se inicia por 0 e 1 e o próximo valor sempre será a soma dos 2 valores anteriores (exemplo: 0, 1, 1, 2, 3, 5, 8, 13, 21, 34...), escreva um programa na linguagem que desejar onde, informado um número, ele calcule a sequência de Fibonacci e retorne uma mensagem avisando se o número informado pertence ou não a sequência.\n",
    "\n",
    "IMPORTANTE: Esse número pode ser informado através de qualquer entrada de sua preferência ou pode ser previamente definido no código;\n",
    "\n",
    "2) Escreva um programa que verifique, em uma string, a existência da letra ‘a’, seja maiúscula ou minúscula, além de informar a quantidade de vezes em que ela ocorre.\n",
    "\n",
    "IMPORTANTE: Essa string pode ser informada através de qualquer entrada de sua preferência ou pode ser previamente definida no código;\n",
    "\n",
    "3) Observe o trecho de código abaixo: int INDICE = 12, SOMA = 0, K = 1; enquanto K < INDICE faça { K = K + 1; SOMA = SOMA + K; } imprimir(SOMA);\n",
    "\n",
    "Ao final do processamento, qual será o valor da variável SOMA?\n",
    "\n",
    "4) Descubra a lógica e complete o próximo elemento:\n",
    "a) 1, 3, 5, 7, ___\n",
    "b) 2, 4, 8, 16, 32, 64, ____\n",
    "c) 0, 1, 4, 9, 16, 25, 36, ____\n",
    "d) 4, 16, 36, 64, ____\n",
    "e) 1, 1, 2, 3, 5, 8, ____\n",
    "f) 2,10, 12, 16, 17, 18, 19, ____\n",
    "\n",
    "\n",
    "5) Você está em uma sala com três interruptores, cada um conectado a uma lâmpada em salas diferentes. Você não pode ver as lâmpadas da sala em que está, mas pode ligar e desligar os interruptores quantas vezes quiser. Seu objetivo é descobrir qual interruptor controla qual lâmpada. Como você faria para descobrir, usando apenas duas idas até uma das salas das lâmpadas, qual interruptor controla cada lâmpada?  \n"
   ]
  },
  {
   "cell_type": "markdown",
   "metadata": {},
   "source": [
    "# Exercício 1"
   ]
  },
  {
   "cell_type": "code",
   "execution_count": 18,
   "metadata": {},
   "outputs": [],
   "source": [
    "def fibonacci(n):\n",
    "    fibo = 1\n",
    "    fibo_ant = 1\n",
    "    while(fibo < n):\n",
    "        fibo, fibo_ant = fibo+fibo_ant, fibo\n",
    "    return not (fibo > n)"
   ]
  },
  {
   "cell_type": "code",
   "execution_count": 34,
   "metadata": {},
   "outputs": [],
   "source": [
    "def test_fibonacci():\n",
    "    correct = [1, 1, 2, 3, 5, 8, 13, 21, 34, 55, 89, 144, 233, 377, 610, 987, 1597, 2584, 4181, 6765]\n",
    "    for val in correct:\n",
    "        if(not fibonacci(val)): return False\n",
    "\n",
    "    wrong = [4, 10, 12, 16, 20, 24, 28, 32, 36, 40, 44, 48, 52, 56, 60, 64, 68, 72, 76, 80]\n",
    "    for val in wrong:\n",
    "        if(fibonacci(val)): return False\n",
    "    \n",
    "    return True"
   ]
  },
  {
   "cell_type": "code",
   "execution_count": 35,
   "metadata": {},
   "outputs": [
    {
     "name": "stdout",
     "output_type": "stream",
     "text": [
      "A função está correta\n"
     ]
    }
   ],
   "source": [
    "if(test_fibonacci()):\n",
    "    print(\"A função está correta\")"
   ]
  },
  {
   "cell_type": "code",
   "execution_count": 20,
   "metadata": {},
   "outputs": [
    {
     "name": "stdout",
     "output_type": "stream",
     "text": [
      "Testando a função para o exercício 1 com entradas intercalando entre certas e erradas, começando pelas certas.\n",
      "Entrada: [3, 4, 5, 6, 8, 10, 13, 15, 21, 24, 34, 48, 55, 70, 89]\n",
      "\n",
      "3: True\n",
      "4: False\n",
      "5: True\n",
      "6: False\n",
      "8: True\n",
      "10: False\n",
      "13: True\n",
      "15: False\n",
      "21: True\n",
      "24: False\n",
      "34: True\n",
      "48: False\n",
      "55: True\n",
      "70: False\n",
      "89: True\n"
     ]
    }
   ],
   "source": [
    "print(\"Testando a função para o exercício 1 com entradas intercalando entre certas e erradas, começando pelas certas.\")\n",
    "entrada = [3, 4, 5, 6, 8, 10, 13, 15, 21, 24, 34, 48, 55, 70, 89]\n",
    "print(f\"Entrada: {entrada}\\n\")\n",
    "\n",
    "for val in entrada:\n",
    "    print(f\"{val}: {fibonacci(val)}\")"
   ]
  },
  {
   "cell_type": "markdown",
   "metadata": {},
   "source": [
    "# Exercício 2"
   ]
  },
  {
   "cell_type": "code",
   "execution_count": 36,
   "metadata": {},
   "outputs": [],
   "source": [
    "def a_contained(s):\n",
    "    if(\"a\" not in s.lower()): return 0\n",
    "\n",
    "    bucket = {}\n",
    "    for c in s:\n",
    "        if(c not in bucket.keys()):\n",
    "            bucket[c] = 1\n",
    "            continue\n",
    "        bucket[c] += 1\n",
    "    return bucket[\"a\"]\n",
    "        "
   ]
  },
  {
   "cell_type": "code",
   "execution_count": 42,
   "metadata": {},
   "outputs": [],
   "source": [
    "def test_a_contained():\n",
    "    test_cases = [\n",
    "        (\"O gato pulou no muro.\", 0),    # No 'a' or 'A'\n",
    "        (\"gato\", 1),                     # One lowercase 'a'\n",
    "        (\"Amanhã\", 1),                   # One uppercase 'A'\n",
    "        (\"banana\", 3),                   # Multiple 'a's\n",
    "        (\"Ana vai para a praia\", 5),     # Both 'a' and 'A'\n",
    "        (\"\", 0),                         # Empty string\n",
    "        (\"1234!@#\", 0),                  # No 'a', special characters\n",
    "        (\"a\", 1),                        # Single 'a'\n",
    "        (\"A\", 1)                         # Single 'A'\n",
    "    ]\n",
    "\n",
    "    for s, expected in test_cases:\n",
    "        result = a_contained(s) == expected\n",
    "        if(not result): return False\n",
    "    \n",
    "    return True"
   ]
  },
  {
   "cell_type": "code",
   "execution_count": 43,
   "metadata": {},
   "outputs": [
    {
     "name": "stdout",
     "output_type": "stream",
     "text": [
      "A função está correta.\n"
     ]
    }
   ],
   "source": [
    "if(test_a_contained): print(\"A função está correta.\")"
   ]
  },
  {
   "cell_type": "code",
   "execution_count": 44,
   "metadata": {},
   "outputs": [
    {
     "name": "stdout",
     "output_type": "stream",
     "text": [
      "Testando a função 'a_contained' para o exercício 2 com entradas intercalando entre certas e erradas, começando pelas certas.\n",
      "Entrada: ['gato', 'O sol brilha', '1234!@#', 'Amanhã', 'Ele corre todos os dias', 'O gato pulou no muro.', 'banana', 'Feliz aniversário', 'Ana vai para a praia']\n",
      "\n",
      "gato: 1\n",
      "O sol brilha: 1\n",
      "1234!@#: 0\n",
      "Amanhã: 1\n",
      "Ele corre todos os dias: 1\n",
      "O gato pulou no muro.: 1\n",
      "banana: 3\n",
      "Feliz aniversário: 1\n",
      "Ana vai para a praia: 7\n"
     ]
    }
   ],
   "source": [
    "print(\"Testando a função 'a_contained' para o exercício 2 com entradas intercalando entre certas e erradas, começando pelas certas.\")\n",
    "entrada = [\n",
    "    \"gato\",\n",
    "    \"O sol brilha\",\n",
    "    \"1234!@#\",\n",
    "    \"Amanhã\",\n",
    "    \"Ele corre todos os dias\",\n",
    "    \"O gato pulou no muro.\",\n",
    "    \"banana\",\n",
    "    \"Feliz aniversário\",\n",
    "    \"Ana vai para a praia\"\n",
    "]\n",
    "print(f\"Entrada: {entrada}\\n\")\n",
    "\n",
    "for val in entrada:\n",
    "    print(f\"{val}: {a_contained(val)}\")\n"
   ]
  },
  {
   "cell_type": "markdown",
   "metadata": {},
   "source": [
    "# Exercício 3"
   ]
  },
  {
   "cell_type": "markdown",
   "metadata": {},
   "source": [
    "```\n",
    "indice = 12\n",
    "soma = 0\n",
    "k = 1\n",
    "enquanto k < indice: // Para em k = 11, serão 10 interações pois k = 1\n",
    "    k = k + 1\n",
    "    soma = soma + k // na primeira iteração k será 2 e soma 0\n",
    "    // é uma progressão aritmética com o termo variando com uma progressão aritmética\n",
    "\n",
    "print soma\n",
    "\n",
    "k = 1, soma = 2\n",
    "k = 2, soma = 5\n",
    "k = 3, soma = 9\n",
    "k = 4, soma = 14\n",
    "k = 5, soma = 20\n",
    "k = 6, soma = 27\n",
    "k = 7, soma = 35\n",
    "k = 8, soma = 44\n",
    "k = 9, soma = 54\n",
    "k = 10, soma = 65\n",
    "k = 11, soma = 77\n",
    "```"
   ]
  },
  {
   "cell_type": "code",
   "execution_count": 49,
   "metadata": {},
   "outputs": [
    {
     "name": "stdout",
     "output_type": "stream",
     "text": [
      "k: 1, soma: 2\n",
      "k: 2, soma: 5\n",
      "k: 3, soma: 9\n",
      "k: 4, soma: 14\n",
      "k: 5, soma: 20\n",
      "k: 6, soma: 27\n",
      "k: 7, soma: 35\n",
      "k: 8, soma: 44\n",
      "k: 9, soma: 54\n",
      "k: 10, soma: 65\n",
      "k: 11, soma: 77\n"
     ]
    },
    {
     "data": {
      "text/plain": [
       "77"
      ]
     },
     "execution_count": 49,
     "metadata": {},
     "output_type": "execute_result"
    }
   ],
   "source": [
    "indice = 12\n",
    "soma = 0\n",
    "k = 1\n",
    "\n",
    "while k < indice:\n",
    "    print(f\"k: {k}\", end = '')\n",
    "    k = k + 1\n",
    "    soma = soma + k\n",
    "    print(f\", soma: {soma}\")\n",
    "\n",
    "soma\n"
   ]
  },
  {
   "cell_type": "markdown",
   "metadata": {},
   "source": [
    "# Exercício 4"
   ]
  },
  {
   "cell_type": "markdown",
   "metadata": {},
   "source": [
    "```\n",
    "4) Descubra a lógica e complete o próximo elemento:\n",
    "a) 1, 3, 5, 7, ___ \n",
    "R: 9\n",
    "b) 2, 4, 8, 16, 32, 64, ____\n",
    "R: 128\n",
    "c) 0, 1, 4, 9, 16, 25, 36, ____\n",
    "R: sequência dos quadrados perfeitos, resposta: 49\n",
    "d) 4, 16, 36, 64, ____\n",
    "R: quadrados pares, resposta: 100\n",
    "e) 1, 1, 2, 3, 5, 8, ____\n",
    "R: sequência de fibonacci, resposta: 13\n",
    "f) 2,10, 12, 16, 17, 18, 19, ____\n",
    "R: Acredito que seja pela grafia de números que começam com \"D\", dois, dez, doze, ... resposta: 200\n",
    "```"
   ]
  }
 ],
 "metadata": {
  "kernelspec": {
   "display_name": "ldm",
   "language": "python",
   "name": "ldm"
  },
  "language_info": {
   "codemirror_mode": {
    "name": "ipython",
    "version": 3
   },
   "file_extension": ".py",
   "mimetype": "text/x-python",
   "name": "python",
   "nbconvert_exporter": "python",
   "pygments_lexer": "ipython3",
   "version": "3.8.19"
  }
 },
 "nbformat": 4,
 "nbformat_minor": 2
}
